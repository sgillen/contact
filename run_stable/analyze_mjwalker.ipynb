{
 "cells": [
  {
   "cell_type": "code",
   "execution_count": 21,
   "metadata": {},
   "outputs": [],
   "source": [
    "import gym\n",
    "import os\n",
    "from stable_baselines.results_plotter import load_results\n",
    "from seagul.plot import smooth_bounded_curve\n",
    "from seagul.mesh import create_mesh\n",
    "import matplotlib.pyplot as plt\n",
    "import numpy as np\n",
    "import torch\n",
    "import pybullet_envs\n",
    "from stable_baselines import TD3 as ALGO\n",
    "import time\n",
    "import seagul.envs\n",
    "import pybullet as p\n",
    "import json\n",
    "import pybulletgym\n",
    "from seagul.envs.wrappers import PyBulletPhysicsWrapper\n",
    "from seagul.mesh import *\n",
    "\n",
    "env_name = \"Walker2d-v2\"\n",
    "#env_name = \"Walker2DBulletEnv-v0\"\n",
    "#env_name = \"pbmj_walker2dfc-v0\"\n",
    "#env_name = \"Walker2DMuJoCoEnv-v0\"\n",
    "\n",
    "def do_rollout_stable(init_point=None, render=False, video=False):\n",
    "    env = gym.make(env_name)\n",
    "    #env = PyBulletPhysicsWrapper(gym.make(env_name, render=render), **config)\n",
    "    model.observation_space = env.observation_space\n",
    "    obs=env.reset()\n",
    "    #td3_model = TD3.load(script_path + \"../rl-baselines-zoo/baseline_log2/td3/su_acrobot_cdc-v0_2/su_acrobot_cdc-v0.zip\")\n",
    "\n",
    "    obs = torch.as_tensor(obs, dtype=torch.float32)\n",
    "\n",
    "    acts_list = []\n",
    "    obs1_list = []\n",
    "    rews_list = []\n",
    "    img_list = []\n",
    "\n",
    "    dtype = torch.float32\n",
    "    act_size = env.action_space.shape[0]\n",
    "    obs_size = env.observation_space.shape[0]\n",
    "\n",
    "    done = False\n",
    "    cur_step = 0\n",
    "\n",
    "    while not done:\n",
    "        acts = model.predict(obs)[0]\n",
    "        obs, rew, done, out = env.step(acts)\n",
    "  \n",
    "        if render:\n",
    "            env.render()\n",
    "            \n",
    "        obs1_list.append(obs)\n",
    "        obs = torch.as_tensor(obs, dtype=dtype)\n",
    "\n",
    "        acts_list.append(torch.as_tensor(acts))\n",
    "        rews_list.append(torch.as_tensor(rew, dtype=dtype))\n",
    "        cur_step += 1\n",
    "\n",
    "    ep_obs1 = torch.tensor(obs1_list)\n",
    "    ep_acts = torch.stack(acts_list)\n",
    "    ep_rews = torch.stack(rews_list)\n",
    "\n",
    "    return ep_obs1, ep_acts, ep_rews, img_list"
   ]
  },
  {
   "cell_type": "code",
   "execution_count": 22,
   "metadata": {},
   "outputs": [
    {
     "name": "stdout",
     "output_type": "stream",
     "text": [
      "Loading a model without an environment, this model cannot be trained until it has a valid environment.\n",
      "Loading a model without an environment, this model cannot be trained until it has a valid environment.\n",
      "Loading a model without an environment, this model cannot be trained until it has a valid environment.\n",
      "Loading a model without an environment, this model cannot be trained until it has a valid environment.\n",
      "Loading a model without an environment, this model cannot be trained until it has a valid environment.\n",
      "Loading a model without an environment, this model cannot be trained until it has a valid environment.\n",
      "Loading a model without an environment, this model cannot be trained until it has a valid environment.\n",
      "Loading a model without an environment, this model cannot be trained until it has a valid environment.\n"
     ]
    },
    {
     "data": {
      "text/plain": [
       "<Figure size 432x288 with 0 Axes>"
      ]
     },
     "execution_count": 22,
     "metadata": {},
     "output_type": "execute_result"
    },
    {
     "data": {
      "image/png": "[encoded data removed]",
      "text/plain": [
       "<Figure size 432x288 with 1 Axes>"
      ]
     },
     "metadata": {
      "needs_background": "light"
     },
     "output_type": "display_data"
    },
    {
     "data": {
      "text/plain": [
       "<Figure size 432x288 with 0 Axes>"
      ]
     },
     "metadata": {},
     "output_type": "display_data"
    },
    {
     "data": {
      "text/plain": [
       "<Figure size 432x288 with 0 Axes>"
      ]
     },
     "metadata": {},
     "output_type": "display_data"
    },
    {
     "data": {
      "text/plain": [
       "<Figure size 432x288 with 0 Axes>"
      ]
     },
     "metadata": {},
     "output_type": "display_data"
    },
    {
     "data": {
      "text/plain": [
       "<Figure size 432x288 with 0 Axes>"
      ]
     },
     "metadata": {},
     "output_type": "display_data"
    },
    {
     "data": {
      "text/plain": [
       "<Figure size 432x288 with 0 Axes>"
      ]
     },
     "metadata": {},
     "output_type": "display_data"
    },
    {
     "data": {
      "text/plain": [
       "<Figure size 432x288 with 0 Axes>"
      ]
     },
     "metadata": {},
     "output_type": "display_data"
    },
    {
     "data": {
      "text/plain": [
       "<Figure size 432x288 with 0 Axes>"
      ]
     },
     "metadata": {},
     "output_type": "display_data"
    },
    {
     "data": {
      "text/plain": [
       "<Figure size 432x288 with 0 Axes>"
      ]
     },
     "metadata": {},
     "output_type": "display_data"
    },
    {
     "data": {
      "text/plain": [
       "<Figure size 432x288 with 0 Axes>"
      ]
     },
     "metadata": {},
     "output_type": "display_data"
    }
   ],
   "source": [
    "# %%\n",
    "fig, ax = plt.subplots(1,1)\n",
    "\n",
    "#log_dir = script_path + './walker_log'\n",
    "df_list = []\n",
    "model_list = []\n",
    "min_length = float('inf')\n",
    "\n",
    "trial_path = \"/home/sgillen/work/contact/run_stable/data2/zoo_td3_mon/\"\n",
    "trial_path = \"/home/sgillen/work/contact/run_stable/data_pbdp/td3/dantzig_200/\"\n",
    "trial_path = \"/home/sgillen/work/contact/run_stable/data_mjw/td3/mj_1/\"\n",
    "#trial_path = \"/home/sgillen/work/contact/run_stable/data_pbdp/td3/low_solve/\"\n",
    "\n",
    "\n",
    "\n",
    "#trial_path = \"/home/sgillen/work/contact/run_stable/data_pbp/td3/not_dantzig/\"\n",
    "#trial_path = \"/home/sgillen/work/contact/run_stable/data_pbp/td3/rest_35_long\"\n",
    "#trial_path = \"/home/sgillen/work/contact/run_stable/data_pbp/td3/not_dantzig\"\n",
    "\n",
    "\n",
    "for entry in os.scandir(trial_path):\n",
    "    if \".ipynb\" in entry.path:\n",
    "        continue\n",
    "    if \"config\" in entry.path:\n",
    "        config = json.load(open(entry.path))\n",
    "        continue\n",
    "    \n",
    "    df = load_results(entry.path)\n",
    "\n",
    "\n",
    "    if len(df['r']) < min_length:\n",
    "        min_length = len(df['r'])\n",
    "\n",
    "    #plt.plot(df['r'])\n",
    "    plt.figure()\n",
    "    df_list.append(df)\n",
    "    model_list.append(ALGO.load(entry.path + \"/model.zip\"))\n",
    "\n",
    "min_length = int(min_length)\n",
    "rewards = np.zeros((min_length, len(df_list)))\n",
    "\n",
    "for i, df in enumerate(df_list):\n",
    "    rewards[:, i] = np.array(df['r'][:min_length])\n",
    "\n",
    "smooth_bounded_curve(rewards[:min_length], ax=ax)\n",
    " \n",
    "ax.grid()\n",
    "ax.ticklabel_format(axis='x', style='sci', scilimits=(0,0))\n",
    "#fig.savefig(script_path + '../figs/reward.png')\n",
    "plt.figure() "
   ]
  },
  {
   "cell_type": "code",
   "execution_count": null,
   "metadata": {},
   "outputs": [],
   "source": [
    "trial_num = 0\n",
    "\n",
    "model = model_list[trial_num]\n",
    "df = df_list[trial_num]\n",
    "plt.plot(df['r']); plt.show()\n",
    "\n",
    "obs_hist, act_hist, rew_hist, img_list = do_rollout_stable(render=False, video=False)\n",
    "\n",
    "print(f\"reward sum: {sum(rew_hist)}\")\n",
    "\n",
    "plt.step([i for i in range(act_hist.shape[0])], act_hist, 'k')\n",
    "plt.title('Actions')\n",
    "plt.xlabel('Time (seconds)')\n",
    "plt.ylabel('Torque (Nm)')\n",
    "plt.grid()\n",
    "#plt.savefig(script_path + '../figs/act_hist.png')\n",
    "plt.show(); plt.figure()\n",
    "\n",
    "plt.plot(obs_hist)\n",
    "\n",
    "plt.title('States')\n",
    "plt.xlabel('Time ticks')\n",
    "plt.ylabel('States (mixed units)')\n",
    "plt.grid()\n",
    "#plt.savefig(script_path + '../figs/obs_hist.png')\n",
    "plt.show()"
   ]
  },
  {
   "cell_type": "code",
   "execution_count": 23,
   "metadata": {},
   "outputs": [
    {
     "name": "stdout",
     "output_type": "stream",
     "text": [
      "Loading a model without an environment, this model cannot be trained until it has a valid environment.\n",
      "Loading a model without an environment, this model cannot be trained until it has a valid environment.\n",
      "Loading a model without an environment, this model cannot be trained until it has a valid environment.\n",
      "Loading a model without an environment, this model cannot be trained until it has a valid environment.\n",
      "Loading a model without an environment, this model cannot be trained until it has a valid environment.\n",
      "Loading a model without an environment, this model cannot be trained until it has a valid environment.\n",
      "Loading a model without an environment, this model cannot be trained until it has a valid environment.\n",
      "Loading a model without an environment, this model cannot be trained until it has a valid environment.\n"
     ]
    },
    {
     "name": "stderr",
     "output_type": "stream",
     "text": [
      "/home/sgillen/miniconda3/envs/stable/lib/python3.6/site-packages/gym/logger.py:30: UserWarning: \u001b[33mWARN: Box bound precision lowered by casting to float32\u001b[0m\n",
      "  warnings.warn(colorize('%s: %s'%('WARN', msg % args), 'yellow'))\n"
     ]
    }
   ],
   "source": [
    "experiment_paths = [\"/home/sgillen/work/contact/run_stable/data_mjw/td3/mj_1/\"]\n",
    "\n",
    "#experiment_paths = [\"/home/sgillen/work/contact/run_stable/data2/zoo_td3_mon/\",\n",
    "#                    \"/home/sgillen/work/contact/run_stable/data_pbdp/td3/dantzig_200/\", \n",
    "#                    \"/home/sgillen/work/contact/run_stable/data_pbdp/td3/high_solve_200/\",\n",
    "#                    \"/home/sgillen/work/contact/run_stable/data_pbdp/td3/low_solve/\"]\n",
    "\n",
    "num_seeds = 8\n",
    "num_trials = 100\n",
    "\n",
    "fail_count = np.ones((len(experiment_paths), num_seeds))*-1\n",
    "\n",
    "mesh_dims = np.ones((len(experiment_paths), num_seeds, num_trials))*-1\n",
    "c_mesh_dims = np.ones((len(experiment_paths), num_seeds, num_trials))*-1\n",
    "var_dims = np.ones((len(experiment_paths), num_seeds, num_trials))*-1\n",
    "\n",
    "exception_list = []\n",
    "\n",
    "\n",
    "for experiment_num, experiment_path in enumerate(experiment_paths):\n",
    "    model_list = []\n",
    "    for entry in os.scandir(experiment_path):\n",
    "        if \".ipynb\" in entry.path:\n",
    "            continue\n",
    "        if \"config\" in entry.path:\n",
    "            config = json.load(open(entry.path))\n",
    "            continue\n",
    "\n",
    "        model_list.append(ALGO.load(entry.path + \"/model.zip\"))\n",
    "\n",
    "    for seed_num in range(num_seeds):\n",
    "        model = model_list[seed_num]\n",
    "        for trial in range(num_trials):\n",
    "            obs_hist, act_hist, rew_hist, img_list = do_rollout_stable(render=False, video=False)\n",
    "            if obs_hist.shape[0] < 1000:\n",
    "                fail_count[experiment_num, seed_num]+=1\n",
    "                continue\n",
    "                \n",
    "            #try:\n",
    "            X = obs_hist[100:, :]\n",
    "            mesh_dims[experiment_num, seed_num, trial],_,_ = mesh_dim(X)\n",
    "            c_mesh_dims[experiment_num, seed_num, trial],_,_ = conservative_mesh_dim(X)\n",
    "            var_dims[experiment_num, seed_num, trial]  = variation_dim(X)\n",
    "        #except:\n",
    "            #    exception_list.append((experiment_num, seed_num, trial))"
   ]
  },
  {
   "cell_type": "markdown",
   "metadata": {},
   "source": [
    "# Save Video"
   ]
  },
  {
   "cell_type": "code",
   "execution_count": null,
   "metadata": {},
   "outputs": [],
   "source": [
    "obs_hist, act_hist, rew_hist, img_list = do_rollout_stable(render=False, video=True)\n",
    "\n",
    "from moviepy.editor import ImageSequenceClip\n",
    "clip = ImageSequenceClip(img_list, fps=60)\n",
    "clip.write_gif(\"walker2.gif\", fps=60)"
   ]
  },
  {
   "cell_type": "markdown",
   "metadata": {},
   "source": [
    "# Meshing / Dimensionality"
   ]
  },
  {
   "cell_type": "code",
   "execution_count": null,
   "metadata": {},
   "outputs": [],
   "source": [
    "useful_states = [0, 3, 5, 7, 8, 9, 10, 11, 12, 13, 14, 15, 16, 17, 18, 19]\n",
    "X=obs_hist[100:, useful_states]\n",
    "#X=obs_hist"
   ]
  },
  {
   "cell_type": "code",
   "execution_count": null,
   "metadata": {},
   "outputs": [],
   "source": [
    "mesh, weights = create_mesh(X, .1)\n",
    "mesht = np.stack(mesh)\n",
    "weights =np.stack(weights)"
   ]
  },
  {
   "cell_type": "code",
   "execution_count": null,
   "metadata": {},
   "outputs": [],
   "source": [
    "start = time.time()\n",
    "\n",
    "d = 1e-3 # initial d, requires hand tuning for now\n",
    "mesh_sizes = []\n",
    "d_vals = []\n",
    "while True:\n",
    "    mesh,_ = create_mesh(X,d)\n",
    "    mesh_sizes.append(len(mesh))\n",
    "    d_vals.append(d)\n",
    "\n",
    "    if mesh_sizes[-1] == 1:\n",
    "        break\n",
    "\n",
    "    d = d*2\n",
    "\n",
    "print(time.time() - start)"
   ]
  },
  {
   "cell_type": "code",
   "execution_count": null,
   "metadata": {},
   "outputs": [],
   "source": [
    "import scipy.optimize as opt\n",
    "\n",
    "for i, m in enumerate(mesh_sizes):\n",
    "    if m < X.shape[0]:\n",
    "        lin_begin = i+1\n",
    "        break\n",
    "\n",
    "xdata = np.array(d_vals[lin_begin:])\n",
    "ydata = np.array(mesh_sizes[lin_begin:])\n",
    "\n",
    "plt.plot(xdata, ydata, 'kx--')\n",
    "#plt.plot(d_vals, mesh_sizes, 'kx--')\n",
    "plt.title(\"Mesh sizes\")\n",
    "plt.xlabel('log(d)')\n",
    "plt.ylabel('log(Points in mesh)')\n",
    "plt.yscale('log')\n",
    "plt.xscale('log')\n",
    "plt.gca().xaxis.grid(True, which='both')  # minor grid on too\n",
    "plt.gca().yaxis.grid(True, which='both')  # minor grid on too\n",
    "plt.figure()\n",
    "\n",
    "# %%\n",
    "def f(x, m, b):\n",
    "    return m * x + b\n",
    "\n",
    "popt, pcov = opt.curve_fit(f, np.log10(xdata), -np.log10(ydata))\n",
    "\n",
    "plt.plot(np.log10(xdata), -np.log10(ydata), 'kx')\n",
    "plt.plot(np.log10(xdata), f(np.log10(xdata), *popt), 'r--')\n",
    "plt.title(\"Linear Fit \")\n",
    "plt.legend(['Data', 'fit: m*x + b,  m=%5.3f, b=%5.3f' % tuple(popt)])\n",
    "plt.xlabel('log(d)')\n",
    "plt.ylabel('log(Points in mesh)')\n",
    "plt.gca().xaxis.grid(True)  # minor grid on too\n",
    "plt.gca().yaxis.grid(True)  # minor grid on too\n",
    "plt.show()"
   ]
  },
  {
   "cell_type": "code",
   "execution_count": null,
   "metadata": {},
   "outputs": [],
   "source": [
    "def mesh_dim(X):\n",
    "    d = 1e-3 # initial d, requires hand tuning for now\n",
    "    mesh_sizes = []\n",
    "    d_vals = []\n",
    "    while True:\n",
    "        mesh,_ = create_mesh(X,d)\n",
    "        mesh_sizes.append(len(mesh))\n",
    "        d_vals.append(d)\n",
    "\n",
    "        if mesh_sizes[-1] == 1:\n",
    "            break\n",
    "\n",
    "        d = d*2\n",
    "    \n",
    "    \n",
    "    for i, m in enumerate(mesh_sizes):\n",
    "        if m < X.shape[0]:\n",
    "            lin_begin = i\n",
    "            break\n",
    "\n",
    "    xdata = np.array(d_vals[lin_begin:])\n",
    "    ydata = np.array(mesh_sizes[lin_begin:])\n",
    "\n",
    "    def f(x, m, b):\n",
    "        return m * x + b\n",
    "\n",
    "    popt, pcov = opt.curve_fit(f, np.log10(xdata), np.log10(ydata))\n",
    "    \n",
    "    return -popt[0]\n",
    " "
   ]
  },
  {
   "cell_type": "code",
   "execution_count": null,
   "metadata": {},
   "outputs": [],
   "source": [
    "def V(X,l,ord):\n",
    "    return 1 / (2 * len(X) - l) * np.sum(np.linalg.norm(X[l:] - X[:-l],ord=ord))\n",
    "\n",
    "def D(X, order=1):\n",
    "    return 2 - 1/(order*np.log(2))*(np.log(V(X,2,order)) - np.log(V(X,1,order)))\n",
    "\n"
   ]
  },
  {
   "cell_type": "markdown",
   "metadata": {},
   "source": [
    "--- \"more\" ---\n",
    "[0]:  z - self.initial_z,\n",
    "[1]:  np.sin(angle_to_target),\n",
    "[2]:  np.cos(angle_to_target),\n",
    "[3]:  0.3 * vx,\n",
    "[4]:  0.3 * vy,\n",
    "[5]:  0.3 * vz,  # 0.3 is just scaling typical speed into -1..+1, no physical sense here\n",
    "[6]:  r, # body roll\n",
    "[7]:  p  # body pitch\n",
    "--- \"joint variables\" ---- (joint range refers the physical range allowed by the sim, each joint is scaled so -1 is the lower joint limit, and +1 is the higher joint limit)\n",
    "[8]:  thigh_joint relative angle (scaled to -1 1) (joint range -2.61 0.0) (this is the green thigh when rendered)\n",
    "[9]:  thigh_joint relative velocity*.1 \n",
    "[10]: leg_joint relative angle (scaled -1 1) (joint range -2.61 0.0)\n",
    "[11]: leg_joint relative velocity*.1\n",
    "[12]: foot_joint relative angle (scaled to -1 1) (joint range -.785 .785)\n",
    "[13]: foot_joint relative velocity*.1\n",
    "[14]: thigh_left_joint relative angle (scaled to -1 1) (joint range -2.61 0.0) (this is the red thigh when rendered)\n",
    "[15]: thigh_left_joint relative velocity*.1 \n",
    "[16]: leg_left_joint relative angle (scaled -1 1) (joint range -2.61 0.0)\n",
    "[17]: leg_left_joint relative velocity*.1\n",
    "[18]: foot_left_joint relative angle (scaled to -1 1) (joint range -.785 .785)\n",
    "[19]: foot_left_joint relative velocity*.1\n",
    "--- \"foot contact\" ----\n",
    "[20]: robot.feet_contact[0] # right foot, green\n",
    "[21]: robot.feet_contact[2] # left foot, red"
   ]
  },
  {
   "cell_type": "markdown",
   "metadata": {},
   "source": [
    "states = [ \n",
    "[0]:  z - self.initial_z,\n",
    "[1]:  np.sin(angle_to_target),\n",
    "[2]:  np.cos(angle_to_target),\n",
    "[3]:  0.3 * vx,\n",
    "[4]:  0.3 * vy,\n",
    "[5]:  0.3 * vz,  # 0.3 is just scaling typical speed into -1..+1, no physical sense here\n",
    "[6]:  r, # body roll\n",
    "[7]:  p  # body pitch\n",
    "--- \"joint variables\" ---- (joint range refers the physical range allowed by the sim, each joint is scaled so -1 is the lower joint limit, and +1 is the higher joint limit)\n",
    "[8]:  thigh_joint relative angle (scaled to -1 1) (joint range -2.61 0.0) (this is the green thigh when rendered)\n",
    "[9]:  thigh_joint relative velocity*.1 \n",
    "[10]: leg_joint relative angle (scaled -1 1) (joint range -2.61 0.0)\n",
    "[11]: leg_joint relative velocity*.1\n",
    "[12]: foot_joint relative angle (scaled to -1 1) (joint range -.785 .785)\n",
    "[13]: foot_joint relative velocity*.1\n",
    "[14]: thigh_left_joint relative angle (scaled to -1 1) (joint range -2.61 0.0) (this is the red thigh when rendered)\n",
    "[15]: thigh_left_joint relative velocity*.1 \n",
    "[16]: leg_left_joint relative angle (scaled -1 1) (joint range -2.61 0.0)\n",
    "[17]: leg_left_joint relative velocity*.1\n",
    "[18]: foot_left_joint relative angle (scaled to -1 1) (joint range -.785 .785)\n",
    "[19]: foot_left_joint relative velocity*.1\n",
    "--- \"foot contact\" ----\n",
    "[20]: robot.feet_contact[0] # right foot, green\n",
    "[21]: robot.feet_contact[2] # left foot, red"
   ]
  },
  {
   "cell_type": "code",
   "execution_count": null,
   "metadata": {},
   "outputs": [],
   "source": [
    "\n",
    "state_names  = [ \n",
    "\"z - self.initial_z\",\n",
    "\"np.sin(angle_to_target)\",\n",
    "\"np.cos(angle_to_target)\",\n",
    "\"0.3 * vx\",\n",
    "\"0.3 * vy\",\n",
    "\"0.3 * vz\", \n",
    "\"r, # body roll\",\n",
    "\"p  # body pitch\",\n",
    "\"thigh_joint angle\",\n",
    "\"thigh_joint velocity*.1 \",\n",
    "\"leg_joint angle\",\n",
    "\"leg_joint velocity\",\n",
    "\"foot_joint angle\",\n",
    "\"foot_joint velocity*.1\",\n",
    "\"thigh_left_joint angle\",\n",
    "\"thigh_left_joint velocity*.1 \",\n",
    "\"leg_left_joint angle\",\n",
    "\"leg_left_joint velocity*1\",\n",
    "\"foot_left_joint angle\",\n",
    "\"foot_left_joint velocity*.1\",\n",
    "\"robot.feet_contact[0]\",\n",
    "\"robot.feet_contact[2]\"\n",
    "]\n"
   ]
  },
  {
   "cell_type": "code",
   "execution_count": null,
   "metadata": {},
   "outputs": [],
   "source": [
    "env = gym.make(env_name)\n",
    "from itertools import product\n",
    "n_states = env.observation_space.shape[0]\n",
    "fig, ax = plt.subplots(n_states,n_states, figsize=(64,64))\n",
    "\n",
    "for i, j in product(range(n_states), range(n_states)):\n",
    "    ax[i,j].scatter(mesht[:,i], mesht[:,j])"
   ]
  },
  {
   "cell_type": "code",
   "execution_count": null,
   "metadata": {},
   "outputs": [],
   "source": [
    "env = gym.make(env_name)\n",
    "from itertools import product\n",
    "\n",
    "n_states = len(useful_states)\n",
    "meshu = mesht[:,useful_states]\n",
    "v_dims = np.zeros((n_states, n_states))\n",
    "m_dims = np.zeros((n_states, n_states))\n",
    "\n",
    "\n",
    "fig, ax = plt.subplots(n_states,n_states, figsize=(64,64))\n",
    "\n",
    "for i, j in product(range(n_states), range(n_states)):\n",
    "    ax[i,j].scatter(meshu[:,i], meshu[:,j])\n",
    "    m_dims[i,j] = mesh_dim(np.stack((meshu[:,i], meshu[:,j]), axis=1))\n",
    "    v_dims[i,j] = D(np.stack((X[:,i], X[:,j]), axis=1))\n",
    "    ax[i,j].set(title=str(m_dims[i,j]))"
   ]
  },
  {
   "cell_type": "code",
   "execution_count": null,
   "metadata": {},
   "outputs": [],
   "source": [
    "env = gym.make(env_name)\n",
    "from itertools import product\n",
    "\n",
    "useful_states = [0, 3, 5, 7, 8, 9, 10, 11, 12, 13, 14, 15, 16, 17, 18, 19]\n",
    "n_states = len(useful_states)\n",
    "meshu = mesht[:,useful_states]\n",
    "v_dims = np.zeros((n_states, n_states))\n",
    "m_dims = np.zeros((n_states, n_states))\n",
    "\n",
    "\n",
    "fig, ax = plt.subplots(n_states,n_states, figsize=(64,64))\n",
    "\n",
    "for i, j in product(range(n_states), range(n_states)):\n",
    "    ax[i,j].scatter(meshu[:,i], meshu[:,j])\n",
    "    #m_dims[i,j] = mesh_dim(np.stack((meshu[:,i], meshu[:,j]), axis=1))\n",
    "    v_dims[i,j] = D(np.stack((X[:,i], X[:,j]), axis=1))\n",
    "    ax[i,j].set(title=str(v_dims[i,j]))"
   ]
  },
  {
   "cell_type": "markdown",
   "metadata": {},
   "source": [
    "# Manifold Learning"
   ]
  },
  {
   "cell_type": "code",
   "execution_count": null,
   "metadata": {},
   "outputs": [],
   "source": [
    "\n",
    "print(__doc__)\n",
    "\n",
    "from collections import OrderedDict\n",
    "from functools import partial\n",
    "from time import time\n",
    "\n",
    "import matplotlib.pyplot as plt\n",
    "from mpl_toolkits.mplot3d import Axes3D\n",
    "from matplotlib.ticker import NullFormatter\n",
    "\n",
    "from sklearn import manifold, datasets\n",
    "\n",
    "# Next line to silence pyflakes. This import is needed.\n",
    "Axes3D\n",
    "\n",
    "n_points = 1000\n",
    "#X, color = datasets.make_s_curve(n_points, random_state=0)\n",
    "n_neighbors = 10\n",
    "n_components = 2\n",
    "\n",
    "# Create figure\n",
    "fig = plt.figure(figsize=(15, 8))\n",
    "fig.suptitle(\"Manifold Learning with %i points, %i neighbors\"\n",
    "             % (1000, n_neighbors), fontsize=14)\n",
    "\n",
    "# Add 3d scatter plot\n",
    "ax = fig.add_subplot(251, projection='3d')\n",
    "ax.scatter(X[:, 0], X[:, 1], X[:, 2], cmap=plt.cm.Spectral)\n",
    "ax.view_init(4, -72)\n",
    "\n",
    "# Set-up manifold methods\n",
    "LLE = partial(manifold.LocallyLinearEmbedding,\n",
    "              n_neighbors, n_components, eigen_solver='auto')\n",
    "\n",
    "methods = OrderedDict()\n",
    "methods['LLE'] = LLE(method='standard')\n",
    "methods['LTSA'] = LLE(method='ltsa')\n",
    "#methods['Hessian LLE'] = LLE(method='hessian')\n",
    "methods['Modified LLE'] = LLE(method='modified')\n",
    "methods['Isomap'] = manifold.Isomap(n_neighbors, n_components)\n",
    "methods['MDS'] = manifold.MDS(n_components, max_iter=100, n_init=1)\n",
    "methods['SE'] = manifold.SpectralEmbedding(n_components=n_components,\n",
    "                                           n_neighbors=n_neighbors)\n",
    "methods['t-SNE'] = manifold.TSNE(n_components=n_components, init='pca',\n",
    "                                 random_state=0)\n",
    "\n",
    "# Plot results\n",
    "for i, (label, method) in enumerate(methods.items()):\n",
    "    t0 = time()\n",
    "    Y = method.fit_transform(X)\n",
    "    t1 = time()\n",
    "    print(\"%s: %.2g sec\" % (label, t1 - t0))\n",
    "    ax = fig.add_subplot(2, 5, 2 + i + (i > 3))\n",
    "    ax.scatter(Y[:, 0], Y[:, 1], cmap=plt.cm.Spectral)\n",
    "    ax.set_title(\"%s (%.2g sec)\" % (label, t1 - t0))\n",
    "    ax.xaxis.set_major_formatter(NullFormatter())\n",
    "    ax.yaxis.set_major_formatter(NullFormatter())\n",
    "    ax.axis('tight')\n",
    "\n",
    "plt.show()\n",
    "\n",
    "# %%"
   ]
  },
  {
   "cell_type": "code",
   "execution_count": null,
   "metadata": {},
   "outputs": [],
   "source": [
    "folder = \"/home/sgillen/work/contact/run_stable/tmp_video\"\n",
    "import matplotlib.cm as cm\n",
    "import subprocess\n",
    "import glob\n",
    "\n",
    "def generate_video(img):\n",
    "    for i in range(len(img)):\n",
    "        plt.imshow(img[i], cmap=cm.Greys_r)\n",
    "        plt.savefig(folder + \"/file%02d.png\" % i)\n",
    "\n",
    "    os.chdir(folder)\n",
    "    subprocess.call([\n",
    "        'ffmpeg', '-framerate', '8', '-i', 'file%02d.png', '-r', '30', '-pix_fmt', 'yuv420p',\n",
    "        'video_name.mp4'\n",
    "    ])\n",
    "    for file_name in glob.glob(\"*.png\"):\n",
    "        os.remove(file_name)"
   ]
  },
  {
   "cell_type": "code",
   "execution_count": null,
   "metadata": {},
   "outputs": [],
   "source": [
    "import cv2\n",
    "\n",
    "#fourcc = cv2.VideoWriter_fourcc(*'X264')\n",
    "fourcc = cv2.VideoWriter_fourcc(*'XVID')\n",
    "#fourcc = cv2.VideoWriter_fourcc(*'MJPG')\n",
    "\n",
    "video_dir = \"./tmp_video/\"\n",
    "text = \"/\".join(trial_path.split(\"/\")[4:]) + \"--\" + \"trial_\" + str(trial_num)\n",
    "video = cv2.VideoWriter(video_dir + \"video.mp4\", fourcc, 60, (img_list[0].shape[1],img_list[0].shape[0]))\n",
    "assert(video.isOpened())\n",
    "\n",
    "for frame in img_list:\n",
    "    position = (5,230)\n",
    "    frame = cv2.putText(frame, text, position, cv2.FONT_HERSHEY_SIMPLEX, .25, (0, 0, 0, 0), 1)\n",
    "    frame = cv2.cvtColor(frame,cv2.COLOR_RGB2BGR)\n",
    "    video.write(frame)\n",
    "    \n",
    "video.release()"
   ]
  },
  {
   "cell_type": "markdown",
   "metadata": {},
   "source": [
    "# Distance Stuff"
   ]
  },
  {
   "cell_type": "code",
   "execution_count": null,
   "metadata": {},
   "outputs": [],
   "source": [
    "def sgidw(x, mesh, weights, order=1, min_dist=.1):\n",
    "    d = np.clip((np.linalg.norm(mesh - x, axis=1)), min_dist, float('inf'))**order\n",
    "    w = 1/d\n",
    "    return weights.dot(w)\n",
    "\n",
    "def shepard(x, mesh, weights, order=1, min_dist=.1):\n",
    "    d = np.clip((np.linalg.norm(mesh - x, axis=1)), min_dist, float('inf'))**order\n",
    "    w = 1/d\n",
    "    return weights.dot(w)/np.sum(w)\n",
    "\n",
    "def modified_shepard(x, mesh, weights, order=1, r=15, min_dist=.1):\n",
    "    d = np.clip((np.linalg.norm(mesh - x, axis=1)**order), min_dist, float('inf'))**order\n",
    "    w = (np.clip(r-d,0,float('inf'))/(r*d))**2\n",
    "    if np.sum(w) == 0:\n",
    "        return 0\n",
    "    else:\n",
    "        return weights.dot(w)\n",
    "    \n",
    "    "
   ]
  },
  {
   "cell_type": "code",
   "execution_count": null,
   "metadata": {},
   "outputs": [],
   "source": [
    "from itertools import product\n",
    " \n",
    "n_p = 100\n",
    "z = 0\n",
    "r = 10\n",
    "\n",
    "dim1 = 11; dim2 = 12\n",
    "\n",
    "x_vals = np.linspace(1, -1, n_p)\n",
    "y_vals = np.linspace(1, -1, n_p)\n",
    "\n",
    "coords = np.zeros((n_p, n_p, 4), dtype=np.float32)\n",
    "sg = np.zeros((n_p, n_p))\n",
    "sh = np.zeros((n_p, n_p))\n",
    "msh = np.zeros((n_p, n_p))\n",
    "\n",
    "\n",
    "for i, j in product(range(n_p), range(n_p)):\n",
    "    point = np.zeros(mesht.shape[1])\n",
    "    point[dim1] = x_vals[j]\n",
    "    point[dim2] = y_vals[i]\n",
    "\n",
    "\n",
    "    sg[i,j] = sgidw(point, mesht, weights, order=2, min_dist=.25)\n",
    "    msh[i,j] = modified_shepard(point, mesht, weights, order=2, min_dist=.25)\n",
    "\n",
    "\n",
    "for z in [sg,sh,msh]:\n",
    "    fig, ax = plt.subplots(1,1, figsize=(8, 8))\n",
    "    x, y = np.meshgrid(x_vals, y_vals)\n",
    "    z = z[:-1, :-1]\n",
    "    c = ax.pcolormesh(x, y, z, cmap='RdBu', vmin=z.min(), vmax=z.max())\n",
    "    ax.scatter(mesht[:,dim1], mesht[:,dim2],color='k')\n",
    "    ax.axis([x.min(), x.max(), y.min(), y.max()])\n",
    "    fig.colorbar(c, ax=ax)"
   ]
  },
  {
   "cell_type": "code",
   "execution_count": null,
   "metadata": {},
   "outputs": [],
   "source": [
    "mesht.shape"
   ]
  },
  {
   "cell_type": "code",
   "execution_count": null,
   "metadata": {},
   "outputs": [],
   "source": []
  }
 ],
 "metadata": {
  "kernelspec": {
   "display_name": "Stable Baselines (3.6)",
   "language": "python",
   "name": "stable"
  },
  "language_info": {
   "codemirror_mode": {
    "name": "ipython",
    "version": 3
   },
   "file_extension": ".py",
   "mimetype": "text/x-python",
   "name": "python",
   "nbconvert_exporter": "python",
   "pygments_lexer": "ipython3",
   "version": "3.6.9"
  }
 },
 "nbformat": 4,
 "nbformat_minor": 4
}
